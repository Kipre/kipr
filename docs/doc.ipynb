{
 "metadata": {
  "language_info": {
   "codemirror_mode": {
    "name": "ipython",
    "version": 3
   },
   "file_extension": ".py",
   "mimetype": "text/x-python",
   "name": "python",
   "nbconvert_exporter": "python",
   "pygments_lexer": "ipython3",
   "version": "3.9.0-final"
  },
  "orig_nbformat": 2,
  "kernelspec": {
   "name": "Python 3.9.0 64-bit",
   "display_name": "Python 3.9.0 64-bit",
   "metadata": {
    "interpreter": {
     "hash": "ac59ebe37160ed0dfa835113d9b8498d9f09ceb179beaac4002f036b9467c963"
    }
   }
  }
 },
 "nbformat": 4,
 "nbformat_minor": 2,
 "cells": [
  {
   "source": [
    "# Kipr personal toolbox module documentation\n",
    "\n"
   ],
   "cell_type": "markdown",
   "metadata": {}
  },
  {
   "cell_type": "code",
   "execution_count": 3,
   "metadata": {},
   "outputs": [],
   "source": [
    "import kipr as kp\n",
    "import numpy as np"
   ]
  },
  {
   "source": [
    "\n",
    "## `kipr.arr` object\n",
    "\n",
    "### Attributes\n",
    "\n",
    "- `kipr.arr.shape`\n",
    "\n",
    "### Methods\n",
    "\n",
    "#### `kipr.arr.__init__`\n",
    "\n",
    "Classic constructor, needs:\n",
    "- `data` A nested sequence of numbers or a number.\n",
    "\n",
    "Optional:\n",
    "- `shape` A sequence of numbers that either align with the total length of data or if data is an a number of a singleton the value gets repeated to create an array of the right size. "
   ],
   "cell_type": "markdown",
   "metadata": {}
  },
  {
   "cell_type": "code",
   "execution_count": 8,
   "metadata": {},
   "outputs": [
    {
     "output_type": "stream",
     "name": "stdout",
     "text": [
      "kipr.arr([ 1.000000, 2.00000],\n         shape=[ 2])\nkipr.arr([[ 2.500000, 2.50000]],\n         shape=[ 1, 2])\nkipr.arr([[[ 0.000000, 1.000000, 2.000000, 3.000000, 4.00000],\n           [ 5.000000, 6.000000, 7.000000, 8.000000, 9.00000]]],\n         shape=[ 1, 2, 5])\n"
     ]
    }
   ],
   "source": [
    "print(kp.arr([1, 2]))\n",
    "print(kp.arr(2.5, shape=[1, 2]))\n",
    "print(kp.arr(range(10), shape=[1, 2, 5]))"
   ]
  },
  {
   "source": [
    "#### `kipr.arr[]`\n",
    "Access subscript parameters:\n",
    "- A tuple slices, ellipsis, numbers, sequences.\n",
    "\n",
    "Caveat: The resulting array cannot be bigger than the original one. This means that an list of shuffled indexes can be passed along an axis as long as it is not longer than the axis size.\n",
    "\n",
    "Differences with numpy: passing a slice like `1:1` returns an array like if it was simply `1` was passed instead of the slice (numpy returns an array with a zero size along this axis)."
   ],
   "cell_type": "markdown",
   "metadata": {}
  },
  {
   "cell_type": "code",
   "execution_count": 10,
   "metadata": {},
   "outputs": [
    {
     "output_type": "stream",
     "name": "stdout",
     "text": [
      "kipr.arr([ 1.00000],\n         shape=[ 1])\nkipr.arr([ 2.500000, 2.500000, 2.500000, 2.500000, 2.500000, 2.50000],\n         shape=[ 6])\nkipr.arr([[[ 1.000000, 2.000000, 3.000000, 4.00000],\n           [ 6.000000, 7.000000, 8.000000, 9.00000]]],\n         shape=[ 1, 2, 4])\nkipr.arr([[[ 2.000000, 3.000000, 2.00000],\n           [ 7.000000, 8.000000, 7.00000]]],\n         shape=[ 1, 2, 3])\nkipr.arr([ 0.000000, 5.00000],\n         shape=[ 2])\n"
     ]
    }
   ],
   "source": [
    "print(kp.arr([1, 2])[0])\n",
    "print(kp.arr(2.5, shape=[6, 2])[:, 0])\n",
    "print(kp.arr(range(10), shape=[1, 2, 5])[..., 1:])\n",
    "print(kp.arr(range(10), shape=[1, 2, 5])[..., (2, 3, 2)])\n",
    "print(kp.arr(range(10), shape=[1, 2, 5])[0, ..., 0])"
   ]
  },
  {
   "source": [
    "#### `kipr.arr.reshape()`\n",
    "Reshaping function:\n",
    "- `shape` A sequence of numbers that either align with the total length of data."
   ],
   "cell_type": "markdown",
   "metadata": {}
  },
  {
   "cell_type": "code",
   "execution_count": 9,
   "metadata": {},
   "outputs": [
    {
     "output_type": "stream",
     "name": "stdout",
     "text": [
      "kipr.arr([[ 0.000000, 1.00000],\n          [ 2.000000, 3.00000],\n          [ 4.000000, 5.00000],\n          [ 6.000000, 7.00000],\n          [ 8.000000, 9.00000]],\n         shape=[ 5, 2])\n"
     ]
    }
   ],
   "source": [
    "print(kp.arr(range(10)).reshape([5, 2]))"
   ]
  },
  {
   "source": [
    "print(kp.arr(1).reshape([2]))"
   ],
   "cell_type": "markdown",
   "metadata": {}
  },
  {
   "source": [
    "#### `kipr.arr.numpy()`"
   ],
   "cell_type": "markdown",
   "metadata": {}
  },
  {
   "cell_type": "code",
   "execution_count": 10,
   "metadata": {},
   "outputs": [
    {
     "output_type": "execute_result",
     "data": {
      "text/plain": [
       "array([[0., 1.],\n",
       "       [2., 3.],\n",
       "       [4., 5.],\n",
       "       [6., 7.],\n",
       "       [8., 9.]], dtype=float32)"
      ]
     },
     "metadata": {},
     "execution_count": 10
    }
   ],
   "source": [
    "kp.arr(range(10), shape=[5, 2]).numpy()"
   ]
  },
  {
   "cell_type": "code",
   "execution_count": 11,
   "metadata": {},
   "outputs": [
    {
     "output_type": "stream",
     "name": "stdout",
     "text": [
      "1.04 ms ± 58.7 µs per loop (mean ± std. dev. of 7 runs, 100 loops each)\n",
      "2.19 ms ± 256 µs per loop (mean ± std. dev. of 7 runs, 100 loops each)\n"
     ]
    }
   ],
   "source": [
    "\n",
    "shape = (10, 10, 10, 10, 10, 10)\n",
    "a, b = kp.arr(1.14, shape=shape), kp.arr(1.542, shape=shape)\n",
    "%timeit a + b\n",
    "\n",
    "a, b = np.ones(shape, dtype=np.float32), np.ones(shape, dtype=np.float32)\n",
    "%timeit a + b"
   ]
  },
  {
   "cell_type": "code",
   "execution_count": 21,
   "metadata": {},
   "outputs": [
    {
     "output_type": "stream",
     "name": "stdout",
     "text": [
      "5.25 ms ± 840 µs per loop (mean ± std. dev. of 7 runs, 100 loops each)\n",
      "905 µs ± 80.2 µs per loop (mean ± std. dev. of 7 runs, 1000 loops each)\n",
      "17.8 ms ± 827 µs per loop (mean ± std. dev. of 7 runs, 100 loops each)\n",
      "299 ns ± 32.9 ns per loop (mean ± std. dev. of 7 runs, 1000000 loops each)\n",
      "1.12 µs ± 64.7 ns per loop (mean ± std. dev. of 7 runs, 1000000 loops each)\n",
      "2.21 ms ± 126 µs per loop (mean ± std. dev. of 7 runs, 1000 loops each)\n",
      "84.2 ms ± 17.8 ms per loop (mean ± std. dev. of 7 runs, 10 loops each)\n",
      "447 ms ± 29.5 ms per loop (mean ± std. dev. of 7 runs, 1 loop each)\n",
      "1.07 µs ± 50.3 ns per loop (mean ± std. dev. of 7 runs, 1000000 loops each)\n",
      "65.6 ms ± 3 ms per loop (mean ± std. dev. of 7 runs, 10 loops each)\n"
     ]
    }
   ],
   "source": [
    "shape = (10, 10, 10, 10, 10, 10)\n",
    "values = np.random.randn(*shape)\n",
    "values = np.random.randn(*shape)\n",
    "\n",
    "a = kp.arr(values)\n",
    "%timeit a[0]\n",
    "%timeit a[[3, 2, 5, 2, 5, 2], :, 0]\n",
    "%timeit a[3, 2, 5, 2, 5, 2]\n",
    "%timeit a[:, ..., 1:7:2]\n",
    "\n",
    "a = values\n",
    "%timeit a[0]\n",
    "%timeit a[[3, 2, 5, 2, 5, 2], :, 0]\n",
    "%timeit a[3, 2, 5, 2, 5, 2].copy()\n",
    "%timeit a[:, ..., 1:7:2].copy()\n",
    "\n",
    "values = np.random.randn(10000, 300, 10)\n",
    "\n",
    "a = kp.arr(values)\n",
    "%timeit a[3, 2, 5]\n",
    "%timeit a[:, ..., 1:7:2]\n",
    "\n",
    "a = values\n",
    "%timeit a[3, 2, 5].copy()\n",
    "%timeit a[:, ..., 1:7:2].copy()\n"
   ]
  },
  {
   "cell_type": "code",
   "execution_count": null,
   "metadata": {},
   "outputs": [],
   "source": []
  }
 ]
}