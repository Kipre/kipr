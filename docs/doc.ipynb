{
 "metadata": {
  "language_info": {
   "codemirror_mode": {
    "name": "ipython",
    "version": 3
   },
   "file_extension": ".py",
   "mimetype": "text/x-python",
   "name": "python",
   "nbconvert_exporter": "python",
   "pygments_lexer": "ipython3",
   "version": "3.9.0-final"
  },
  "orig_nbformat": 2,
  "kernelspec": {
   "name": "Python 3.9.0 64-bit",
   "display_name": "Python 3.9.0 64-bit",
   "metadata": {
    "interpreter": {
     "hash": "ac59ebe37160ed0dfa835113d9b8498d9f09ceb179beaac4002f036b9467c963"
    }
   }
  }
 },
 "nbformat": 4,
 "nbformat_minor": 2,
 "cells": [
  {
   "source": [
    "# Kipr personal toolbox module documentation\n",
    "\n"
   ],
   "cell_type": "markdown",
   "metadata": {}
  },
  {
   "cell_type": "code",
   "execution_count": 4,
   "metadata": {},
   "outputs": [],
   "source": [
    "import kipr as kp\n",
    "import numpy as np"
   ]
  },
  {
   "source": [
    "\n",
    "## `kipr.arr` object\n",
    "\n",
    "### Attributes\n",
    "\n",
    "- `kipr.arr.shape`\n",
    "\n",
    "### Methods\n",
    "\n",
    "#### `kipr.arr.__init__`\n",
    "\n",
    "Classic constructor, needs:\n",
    "- `data` A nested sequence of number or a number.\n",
    "\n",
    "Optional:\n",
    "- `shape` A sequence of numbers that either align with the total length of data or "
   ],
   "cell_type": "markdown",
   "metadata": {}
  },
  {
   "cell_type": "code",
   "execution_count": 2,
   "metadata": {},
   "outputs": [
    {
     "output_type": "stream",
     "name": "stdout",
     "text": [
      "kipr.arr([ 1.000000, 2.00000],\n         shape=[ 2])\nkipr.arr([[ 2.500000, 2.50000]],\n         shape=[ 1, 2])\nkipr.arr([[[ 0.000000, 1.000000, 2.000000, 3.000000, 4.00000],\n           [ 5.000000, 6.000000, 7.000000, 8.000000, 9.00000]]],\n         shape=[ 1, 2, 5])\n"
     ]
    }
   ],
   "source": [
    "print(kp.arr([1, 2]))\n",
    "print(kp.arr(2.5, shape=[1, 2]))\n",
    "print(kp.arr(range(10), shape=[1, 2, 5]))"
   ]
  },
  {
   "source": [
    "#### `kipr.arr.reshape()`\n",
    "Reshaping function:\n",
    "- `shape` A sequence of numbers that either align with the total length of data."
   ],
   "cell_type": "markdown",
   "metadata": {}
  },
  {
   "cell_type": "code",
   "execution_count": 3,
   "metadata": {},
   "outputs": [
    {
     "output_type": "stream",
     "name": "stdout",
     "text": [
      "kipr.arr([[ 0.000000, 1.00000],\n          [ 2.000000, 3.00000],\n          [ 4.000000, 5.00000],\n          [ 6.000000, 7.00000],\n          [ 8.000000, 9.00000]],\n         shape=[ 5, 2])\n"
     ]
    }
   ],
   "source": [
    "print(kp.arr(range(10)).reshape([5, 2]))"
   ]
  },
  {
   "source": [
    "print(kp.arr(1).reshape([2]))"
   ],
   "cell_type": "markdown",
   "metadata": {}
  },
  {
   "source": [
    "#### `kipr.arr.numpy()`"
   ],
   "cell_type": "markdown",
   "metadata": {}
  },
  {
   "cell_type": "code",
   "execution_count": 6,
   "metadata": {},
   "outputs": [
    {
     "output_type": "execute_result",
     "data": {
      "text/plain": [
       "array([[0., 1.],\n",
       "       [2., 3.],\n",
       "       [4., 5.],\n",
       "       [6., 7.],\n",
       "       [8., 9.]], dtype=float32)"
      ]
     },
     "metadata": {},
     "execution_count": 6
    }
   ],
   "source": [
    "kp.arr(range(10), shape=[5, 2]).numpy()"
   ]
  },
  {
   "cell_type": "code",
   "execution_count": 6,
   "metadata": {},
   "outputs": [
    {
     "output_type": "stream",
     "name": "stdout",
     "text": [
      "1.19 ms ± 65.2 µs per loop (mean ± std. dev. of 7 runs, 1000 loops each)\n",
      "2.21 ms ± 211 µs per loop (mean ± std. dev. of 7 runs, 100 loops each)\n"
     ]
    }
   ],
   "source": [
    "\n",
    "shape = (10, 10, 10, 10, 10, 10)\n",
    "a, b, = kp.arr(1.14, shape=shape), kp.arr(1.542, shape=shape)\n",
    "%timeit a + b\n",
    "\n",
    "a, b, = np.ones(shape, dtype=np.float32), np.ones(shape, dtype=np.float32)\n",
    "%timeit a + b"
   ]
  },
  {
   "cell_type": "code",
   "execution_count": null,
   "metadata": {},
   "outputs": [],
   "source": []
  },
  {
   "cell_type": "code",
   "execution_count": null,
   "metadata": {},
   "outputs": [],
   "source": []
  }
 ]
}