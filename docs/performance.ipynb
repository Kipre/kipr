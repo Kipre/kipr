{
 "metadata": {
  "language_info": {
   "codemirror_mode": {
    "name": "ipython",
    "version": 3
   },
   "file_extension": ".py",
   "mimetype": "text/x-python",
   "name": "python",
   "nbconvert_exporter": "python",
   "pygments_lexer": "ipython3",
   "version": "3.9.0-final"
  },
  "orig_nbformat": 2,
  "kernelspec": {
   "name": "Python 3.9.0 64-bit",
   "display_name": "Python 3.9.0 64-bit",
   "metadata": {
    "interpreter": {
     "hash": "ac59ebe37160ed0dfa835113d9b8498d9f09ceb179beaac4002f036b9467c963"
    }
   }
  }
 },
 "nbformat": 4,
 "nbformat_minor": 2,
 "cells": [
  {
   "source": [
    "# Kipr personal toolbox speed checks\n"
   ],
   "cell_type": "markdown",
   "metadata": {}
  },
  {
   "cell_type": "code",
   "execution_count": 1,
   "metadata": {},
   "outputs": [],
   "source": [
    "import kipr as kp\n",
    "import numpy as np"
   ]
  },
  {
   "cell_type": "code",
   "execution_count": 3,
   "metadata": {},
   "outputs": [
    {
     "output_type": "stream",
     "name": "stdout",
     "text": [
      "274 ns ± 38.7 ns per loop (mean ± std. dev. of 7 runs, 1000000 loops each)\n",
      "577 ns ± 49.7 ns per loop (mean ± std. dev. of 7 runs, 1000000 loops each)\n"
     ]
    }
   ],
   "source": [
    "shape = (10, 10)\n",
    "a, b = kp.arr(1.14, shape=shape), kp.arr(1.542, shape=shape)\n",
    "%timeit a + b\n",
    "\n",
    "a, b = np.ones(shape, dtype=np.float32), np.ones(shape, dtype=np.float32)\n",
    "%timeit a + b"
   ]
  },
  {
   "cell_type": "code",
   "execution_count": null,
   "metadata": {},
   "outputs": [],
   "source": []
  },
  {
   "cell_type": "code",
   "execution_count": 4,
   "metadata": {},
   "outputs": [
    {
     "output_type": "stream",
     "name": "stdout",
     "text": [
      "kipr time:\n",
      "167 ms ± 30.2 ms per loop (mean ± std. dev. of 7 runs, 1 loop each)\n",
      "numpy time:\n",
      "2.03 ms ± 70.6 µs per loop (mean ± std. dev. of 7 runs, 1000 loops each)\n"
     ]
    }
   ],
   "source": [
    "shape = (10, 10, 10, 10, 10, 10)\n",
    "values = np.random.randn(*shape)\n",
    "values2 = np.random.randn(10000, 300, 10)\n",
    "\n",
    "a = kp.arr(values)\n",
    "b = kp.arr(values2)\n",
    "print('kipr time:')\n",
    "%timeit a[0], a[3, 2, 5, 2, 5, 2], a[:, ..., 1:7:2], a[[3, 2, 5, 2, 5, 2], :, 0], b[3, 2, 5], b[:, ..., 1:7:2]\n",
    "\n",
    "a = values\n",
    "b = values2\n",
    "print('numpy time:')\n",
    "%timeit a[0].copy(), a[3, 2, 5, 2, 5, 2].copy(), a[:, ..., 1:7:2].copy(), a[[3, 2, 5, 2, 5, 2], :, 0], b[3, 2, 5].copy(), b[:, ..., 1:7:2]"
   ]
  },
  {
   "cell_type": "code",
   "execution_count": 6,
   "metadata": {},
   "outputs": [],
   "source": [
    "shape = (10, 10, 10, 10, 10, 10)\n",
    "values = np.random.randn(*shape)\n",
    "a = kp.arr(values)"
   ]
  },
  {
   "cell_type": "code",
   "execution_count": 2,
   "metadata": {},
   "outputs": [
    {
     "output_type": "error",
     "ename": "NameError",
     "evalue": "name 'a' is not defined",
     "traceback": [
      "\u001b[1;31m---------------------------------------------------------------------------\u001b[0m",
      "\u001b[1;31mNameError\u001b[0m                                 Traceback (most recent call last)",
      "\u001b[1;32m<ipython-input-2-6a1284577a36>\u001b[0m in \u001b[0;36m<module>\u001b[1;34m\u001b[0m\n\u001b[1;32m----> 1\u001b[1;33m \u001b[0ma\u001b[0m\u001b[1;33m[\u001b[0m\u001b[1;36m0\u001b[0m\u001b[1;33m]\u001b[0m\u001b[1;33m\u001b[0m\u001b[1;33m\u001b[0m\u001b[0m\n\u001b[0m",
      "\u001b[1;31mNameError\u001b[0m: name 'a' is not defined"
     ]
    }
   ],
   "source": [
    "a[0]"
   ]
  },
  {
   "cell_type": "code",
   "execution_count": 9,
   "metadata": {},
   "outputs": [
    {
     "output_type": "execute_result",
     "data": {
      "text/plain": [
       "3928"
      ]
     },
     "metadata": {},
     "execution_count": 9
    }
   ],
   "source": [
    "import os\n",
    "os.getpid()"
   ]
  }
 ]
}