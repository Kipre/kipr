{
 "metadata": {
  "language_info": {
   "codemirror_mode": {
    "name": "ipython",
    "version": 3
   },
   "file_extension": ".py",
   "mimetype": "text/x-python",
   "name": "python",
   "nbconvert_exporter": "python",
   "pygments_lexer": "ipython3",
   "version": "3.9.0-final"
  },
  "orig_nbformat": 2,
  "kernelspec": {
   "name": "Python 3.9.0 64-bit",
   "display_name": "Python 3.9.0 64-bit",
   "metadata": {
    "interpreter": {
     "hash": "ac59ebe37160ed0dfa835113d9b8498d9f09ceb179beaac4002f036b9467c963"
    }
   }
  }
 },
 "nbformat": 4,
 "nbformat_minor": 2,
 "cells": [
  {
   "source": [
    "# Kipr personal toolbox speed checks\n"
   ],
   "cell_type": "markdown",
   "metadata": {}
  },
  {
   "cell_type": "code",
   "execution_count": 1,
   "metadata": {},
   "outputs": [],
   "source": [
    "import kipr as kp\n",
    "import numpy as np"
   ]
  },
  {
   "source": [
    "## Addition"
   ],
   "cell_type": "markdown",
   "metadata": {}
  },
  {
   "cell_type": "code",
   "execution_count": 4,
   "metadata": {},
   "outputs": [
    {
     "output_type": "stream",
     "name": "stdout",
     "text": [
      "1.94 ms ± 60.3 µs per loop (mean ± std. dev. of 7 runs, 1000 loops each)\n",
      "1.39 ms ± 50.5 µs per loop (mean ± std. dev. of 7 runs, 1000 loops each)\n"
     ]
    }
   ],
   "source": [
    "shape = (10, 10, 10, 10, 10, 10)\n",
    "a, b = kp.arr(1, shape=shape), kp.arr(1, shape=shape)\n",
    "%timeit a + b\n",
    "\n",
    "a, b = np.ones(shape, dtype=np.float32), np.ones(shape, dtype=np.float32)\n",
    "%timeit a + b"
   ]
  },
  {
   "source": [
    "## Subscript"
   ],
   "cell_type": "markdown",
   "metadata": {}
  },
  {
   "cell_type": "code",
   "execution_count": 4,
   "metadata": {},
   "outputs": [
    {
     "output_type": "stream",
     "name": "stdout",
     "text": [
      "kipr time:\n",
      "167 ms ± 30.2 ms per loop (mean ± std. dev. of 7 runs, 1 loop each)\n",
      "numpy time:\n",
      "2.03 ms ± 70.6 µs per loop (mean ± std. dev. of 7 runs, 1000 loops each)\n"
     ]
    }
   ],
   "source": [
    "shape = (10, 10, 10, 10, 10, 10)\n",
    "values = np.random.randn(*shape)\n",
    "values2 = np.random.randn(10000, 300, 10)\n",
    "\n",
    "a = kp.arr(values)\n",
    "b = kp.arr(values2)\n",
    "print('kipr time:')\n",
    "%timeit a[0], a[3, 2, 5, 2, 5, 2], a[:, ..., 1:7:2], a[[3, 2, 5, 2, 5, 2], :, 0], b[3, 2, 5], b[:, ..., 1:7:2]\n",
    "\n",
    "a = values\n",
    "b = values2\n",
    "print('numpy time:')\n",
    "%timeit a[0].copy(), a[3, 2, 5, 2, 5, 2].copy(), a[:, ..., 1:7:2].copy(), a[[3, 2, 5, 2, 5, 2], :, 0], b[3, 2, 5].copy(), b[:, ..., 1:7:2]"
   ]
  },
  {
   "source": [
    "## Loading from numpy array"
   ],
   "cell_type": "markdown",
   "metadata": {}
  },
  {
   "cell_type": "code",
   "execution_count": 5,
   "metadata": {},
   "outputs": [
    {
     "output_type": "stream",
     "name": "stdout",
     "text": [
      "8.18 ms ± 156 µs per loop (mean ± std. dev. of 7 runs, 100 loops each)\n",
      "160 µs ± 1.04 µs per loop (mean ± std. dev. of 7 runs, 10000 loops each)\n"
     ]
    }
   ],
   "source": [
    "shape = (10, 10, 10, 10, 10)\n",
    "a = np.random.rand(*shape)\n",
    "b = a.astype(np.float32)\n",
    "\n",
    "%timeit kp.arr(a)\n",
    "%timeit kp.arr(b)"
   ]
  },
  {
   "source": [
    "## ReLU"
   ],
   "cell_type": "markdown",
   "metadata": {}
  },
  {
   "cell_type": "code",
   "execution_count": 2,
   "metadata": {},
   "outputs": [
    {
     "output_type": "stream",
     "name": "stdout",
     "text": [
      "1.27 ms ± 5.86 µs per loop (mean ± std. dev. of 7 runs, 1000 loops each)\n",
      "4.5 ms ± 76.3 µs per loop (mean ± std. dev. of 7 runs, 100 loops each)\n"
     ]
    }
   ],
   "source": [
    "shape = (10, 10, 10, 10, 10, 10)\n",
    "a = kp.arr('random', shape=shape)\n",
    "%timeit kp.relu(a)\n",
    "\n",
    "a = np.random.rand(*shape).astype(np.float32)\n",
    "%timeit a * (a > 0)"
   ]
  },
  {
   "cell_type": "code",
   "execution_count": null,
   "metadata": {},
   "outputs": [],
   "source": []
  }
 ]
}