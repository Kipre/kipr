{
 "cells": [
  {
   "cell_type": "markdown",
   "metadata": {},
   "source": [
    "# Kipr personal toolbox speed checks\n"
   ]
  },
  {
   "cell_type": "code",
   "execution_count": 2,
   "metadata": {},
   "outputs": [],
   "source": [
    "import kipr as kp\n",
    "import numpy as np"
   ]
  },
  {
   "cell_type": "markdown",
   "metadata": {},
   "source": [
    "## Addition"
   ]
  },
  {
   "cell_type": "code",
   "execution_count": 2,
   "metadata": {
    "scrolled": false
   },
   "outputs": [
    {
     "name": "stdout",
     "output_type": "stream",
     "text": [
      "5.79 ms ± 89.5 µs per loop (mean ± std. dev. of 7 runs, 100 loops each)\n",
      "5.89 ms ± 92.4 µs per loop (mean ± std. dev. of 7 runs, 100 loops each)\n",
      "348 µs ± 3.56 µs per loop (mean ± std. dev. of 7 runs, 1000 loops each)\n",
      "3.5 ms ± 65.3 µs per loop (mean ± std. dev. of 7 runs, 100 loops each)\n"
     ]
    }
   ],
   "source": [
    "shape = (10, 10, 10, 10, 10, 10)\n",
    "a, b = kp.arr('randn', shape=shape), kp.arr('randn', shape=shape)\n",
    "%timeit a + b\n",
    "%timeit a.recadd(b)\n",
    "%timeit a.pureadd(b)\n",
    "\n",
    "a, b = np.random.randn(*shape).astype(np.float32), np.random.randn(*shape).astype(np.float32)\n",
    "%timeit a + b"
   ]
  },
  {
   "cell_type": "code",
   "execution_count": 3,
   "metadata": {
    "scrolled": true
   },
   "outputs": [
    {
     "name": "stdout",
     "output_type": "stream",
     "text": [
      "135 µs ± 307 ns per loop (mean ± std. dev. of 7 runs, 10000 loops each)\n",
      "136 µs ± 2.55 µs per loop (mean ± std. dev. of 7 runs, 10000 loops each)\n",
      "68.3 µs ± 281 ns per loop (mean ± std. dev. of 7 runs, 10000 loops each)\n"
     ]
    }
   ],
   "source": [
    "a, b = kp.arr('randn', shape=[3, 5, 3, 6, 1, 7]), kp.arr('randn', shape=[3, 6, 9, 7])\n",
    "%timeit a + b\n",
    "%timeit a.recadd(b)\n",
    "\n",
    "a, b = a.numpy(), b.numpy()\n",
    "%timeit (a + b).copy()"
   ]
  },
  {
   "cell_type": "code",
   "execution_count": 3,
   "metadata": {},
   "outputs": [
    {
     "name": "stdout",
     "output_type": "stream",
     "text": [
      "92 ns ± 0.767 ns per loop (mean ± std. dev. of 7 runs, 10000000 loops each)\n",
      "1.08 µs ± 6.95 ns per loop (mean ± std. dev. of 7 runs, 1000000 loops each)\n",
      "1.37 µs ± 5.27 ns per loop (mean ± std. dev. of 7 runs, 1000000 loops each)\n"
     ]
    }
   ],
   "source": [
    "a, b = 1, 2\n",
    "%timeit a + b\n",
    "\n",
    "a, b = kp.arr(1), kp.arr(2)\n",
    "%timeit a + b\n",
    "\n",
    "a, b = np.array(1), np.array(2)\n",
    "%timeit a + b"
   ]
  },
  {
   "cell_type": "markdown",
   "metadata": {},
   "source": [
    "## MatMul"
   ]
  },
  {
   "cell_type": "code",
   "execution_count": null,
   "metadata": {},
   "outputs": [],
   "source": [
    "shape = (4, 3)\n",
    "a = kp.arr('randn',  shape=shape)\n",
    "b = kp.arr('randn', shape=(3, 32))\n",
    "%timeit a.matmul(b)\n",
    "%timeit a.matmul_t(b)\n",
    "%timeit a.matmul_r(b)\n",
    "\n",
    "a, b = a.numpy(), b.numpy()\n",
    "%timeit a @ b"
   ]
  },
  {
   "cell_type": "code",
   "execution_count": null,
   "metadata": {},
   "outputs": [],
   "source": [
    "import timeit\n",
    "import matplotlib.pyplot as plt\n",
    "\n",
    "tests = 3\n",
    "result = {}\n",
    "\n",
    "matrices = [1, 2, 4, 8, 16, 32, 64, 128, 512]\n",
    "for n in matrices:\n",
    "    # kipr\n",
    "    a = kp.arr('randn', shape=[n, n])\n",
    "    exe = lambda: a.matmul_t(a)\n",
    "    end = timeit.timeit(exe, number=10)\n",
    "    result.setdefault(\"classic\", []).append(end)\n",
    "    \n",
    "    a = a.numpy()\n",
    "    exe = lambda: a @ a\n",
    "    end = timeit.timeit(exe, number=10)\n",
    "    result.setdefault(\"classic\", []).append(end)\n",
    "    \n",
    "print(result)\n",
    "    \n",
    "plt.plot(matrices, result[\"classic\"], label='classic')\n",
    "plt.plot(matrices, result[\"numpy\"], label='numpy')\n",
    "\n",
    "plt.x_scale('log')\n",
    "    "
   ]
  },
  {
   "cell_type": "code",
   "execution_count": 3,
   "metadata": {},
   "outputs": [
    {
     "data": {
      "text/plain": [
       "1605641855.305304"
      ]
     },
     "execution_count": 3,
     "metadata": {},
     "output_type": "execute_result"
    }
   ],
   "source": [
    "time.time()"
   ]
  },
  {
   "cell_type": "code",
   "execution_count": null,
   "metadata": {},
   "outputs": [],
   "source": [
    "shape = (1, 30, 5)\n",
    "a = kp.arr('randn',  shape=shape)\n",
    "b = kp.arr('randn', shape=(shape[-1], shape[-1]))\n",
    "%timeit a @ b\n",
    "\n",
    "shape = (1, 300, 5)\n",
    "a = kp.arr('randn',  shape=shape)\n",
    "b = kp.arr('randn', shape=(shape[-1], shape[-1]))\n",
    "%timeit a @ b\n",
    "\n",
    "shape = (1, 3000, 5)\n",
    "a = kp.arr('randn',  shape=shape)\n",
    "b = kp.arr('randn', shape=(shape[-1], shape[-1]))\n",
    "%timeit a @ b\n",
    "\n",
    "\n",
    "shape = (1, 30000, 5)\n",
    "a = kp.arr('randn',  shape=shape)\n",
    "b = kp.arr('randn', shape=(shape[-1], shape[-1]))\n",
    "%timeit a @ b\n"
   ]
  },
  {
   "cell_type": "markdown",
   "metadata": {},
   "source": [
    "## Subscript"
   ]
  },
  {
   "cell_type": "code",
   "execution_count": 4,
   "metadata": {},
   "outputs": [
    {
     "name": "stdout",
     "output_type": "stream",
     "text": [
      "kipr time:\n",
      "337 ms ± 12.7 ms per loop (mean ± std. dev. of 7 runs, 1 loop each)\n",
      "numpy time:\n",
      "4.25 ms ± 32.8 µs per loop (mean ± std. dev. of 7 runs, 100 loops each)\n"
     ]
    }
   ],
   "source": [
    "shape = (10, 10, 10, 10, 10, 10)\n",
    "values = np.random.randn(*shape)\n",
    "values2 = np.random.randn(10000, 300, 10)\n",
    "\n",
    "a = kp.arr(values)\n",
    "b = kp.arr(values2)\n",
    "print('kipr time:')\n",
    "%timeit a[0], a[3, 2, 5, 2, 5, 2], a[:, ..., 1:7:2], a[[3, 2, 5, 2, 5, 2], :, 0], b[3, 2, 5], b[:, ..., 1:7:2]\n",
    "\n",
    "a = values\n",
    "b = values2\n",
    "print('numpy time:')\n",
    "%timeit a[0].copy(), a[3, 2, 5, 2, 5, 2].copy(), a[:, ..., 1:7:2].copy(), a[[3, 2, 5, 2, 5, 2], :, 0], b[3, 2, 5].copy(), b[:, ..., 1:7:2]"
   ]
  },
  {
   "cell_type": "markdown",
   "metadata": {},
   "source": [
    "## Loading from numpy array"
   ]
  },
  {
   "cell_type": "code",
   "execution_count": 3,
   "metadata": {},
   "outputs": [
    {
     "name": "stdout",
     "output_type": "stream",
     "text": [
      "33.2 ms ± 1.6 ms per loop (mean ± std. dev. of 7 runs, 10 loops each)\n",
      "544 µs ± 22.1 µs per loop (mean ± std. dev. of 7 runs, 1000 loops each)\n"
     ]
    }
   ],
   "source": [
    "shape = (10, 10, 10, 10, 10)\n",
    "a = np.random.rand(*shape)\n",
    "b = a.astype(np.float32)\n",
    "\n",
    "%timeit kp.arr(a)\n",
    "%timeit kp.arr(b)"
   ]
  },
  {
   "cell_type": "markdown",
   "metadata": {},
   "source": [
    "## ReLU"
   ]
  },
  {
   "cell_type": "code",
   "execution_count": 2,
   "metadata": {},
   "outputs": [
    {
     "name": "stdout",
     "output_type": "stream",
     "text": [
      "1.27 ms ± 5.86 µs per loop (mean ± std. dev. of 7 runs, 1000 loops each)\n",
      "4.5 ms ± 76.3 µs per loop (mean ± std. dev. of 7 runs, 100 loops each)\n"
     ]
    }
   ],
   "source": [
    "shape = (10, 10, 10, 10, 10, 10)\n",
    "a = kp.arr('random', shape=shape)\n",
    "%timeit kp.relu(a)\n",
    "\n",
    "a = np.random.rand(*shape).astype(np.float32)\n",
    "%timeit a * (a > 0)"
   ]
  },
  {
   "cell_type": "code",
   "execution_count": null,
   "metadata": {},
   "outputs": [],
   "source": []
  }
 ],
 "metadata": {
  "kernelspec": {
   "display_name": "Python 3",
   "language": "python",
   "name": "python3"
  },
  "language_info": {
   "codemirror_mode": {
    "name": "ipython",
    "version": 3
   },
   "file_extension": ".py",
   "mimetype": "text/x-python",
   "name": "python",
   "nbconvert_exporter": "python",
   "pygments_lexer": "ipython3",
   "version": "3.9.0"
  }
 },
 "nbformat": 4,
 "nbformat_minor": 2
}
