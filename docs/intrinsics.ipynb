{
 "cells": [
  {
   "cell_type": "markdown",
   "metadata": {},
   "source": [
    "# Intrinsics"
   ]
  },
  {
   "cell_type": "markdown",
   "metadata": {},
   "source": [
    "## Indexing\n",
    "\n",
    "### Subscript\n",
    "\n",
    "A subscript is a mapping from the dimensions (axes of the shape) to a collection of indexes along this axis.\n",
    "\n",
    "Let's say $n_d$ is the number of dimensions of an array $A$, and $d_0, d_1, ... d_{n_d}$ are the sizes along those dimensions. We can further define $F$, a filter as a sequence $(f_0, f_1, ... f_{n_d})$ where for any $i$, $f_i$ is the sequence of selected indexes along this axis. \n",
    "\n",
    "If $(i_0, i_1, ..., i_{n_d})$ are the indexes of an element in $A$ and $D$ is the (flat) buffer storing this data, then:\n",
    "\n",
    "$$A(i_0, i_1, ..., i_{n_d}) = D(\\sum_{k=0}^{n_d} i_k s_k)$$\n",
    "\n",
    "where the $s_i$ are the strides of $A$.\n",
    "\n",
    "$$\\forall i \\in \\{0, 1, ..., n_d - 1\\}, s_i = \\prod_{k=i+1}^{n_d} d_k \\text{ and } s_{n_d} = 1$$\n",
    "\n",
    "If we have $I = \\sum_{k=0}^{n_d} i_k s_k$ then if we want to find $I'$ for $i_{k_{new}}$ for example: we can do $I' = I + s_k(i_{k_{new}} - i_k)$\n"
   ]
  },
  {
   "cell_type": "markdown",
   "metadata": {},
   "source": [
    "$f(u) = ln(u)$\n",
    "\n",
    "$f'(u) = \\frac{1}{u}$\n",
    "\n",
    "$f(v) = softmax(v) = \\frac{e^v}{reduce\\_sum(e^v)} = \\frac{e^v}{\\sum e^{v_i}}$\n",
    "$f(v)_i = softmax(v)_i = \\frac{e^{v_i}}{\\sum_j e^{v_j}}$\n",
    "\n",
    "$f'(v)_i = \\frac{e^{v_i} \\sum_j e^{v_j} - e^{2v_i}}{(\\sum_j e^{v_j})^2} = softmax(v)_i - softmax(v)_i^2$\n",
    "\n",
    "$f'(v) = softmax(v) - softmax(v)^2$\n",
    "\n"
   ]
  },
  {
   "cell_type": "markdown",
   "metadata": {},
   "source": [
    "$L(y, u) = -\\sum y_i$"
   ]
  },
  {
   "cell_type": "code",
   "execution_count": 148,
   "metadata": {},
   "outputs": [],
   "source": [
    "import networkx as nx\n",
    "import dis\n",
    "import matplotlib.pyplot as plt\n",
    "\n",
    "style = {\n",
    "    'with_labels': True, \n",
    "    'font_weight': 'bold',\n",
    "    'arrowsize': 20,\n",
    "    'node_size': 2000, \n",
    "    'node_color': '#faa19b'\n",
    "}\n",
    "\n",
    "def f(x, W1, W2, b):\n",
    "    x = relu(W1 @ x + b)\n",
    "    x = softmax(W2 @ x)\n",
    "    return x\n"
   ]
  },
  {
   "cell_type": "code",
   "execution_count": 150,
   "metadata": {},
   "outputs": [
    {
     "name": "stdout",
     "output_type": "stream",
     "text": [
      " 14           0 LOAD_GLOBAL              0 (relu)\n",
      "              2 LOAD_FAST                1 (W1)\n",
      "              4 LOAD_FAST                0 (x)\n",
      "              6 BINARY_MATRIX_MULTIPLY\n",
      "              8 LOAD_FAST                3 (b)\n",
      "             10 BINARY_ADD\n",
      "             12 CALL_FUNCTION            1\n",
      "             14 STORE_FAST               0 (x)\n",
      "\n",
      " 15          16 LOAD_GLOBAL              1 (softmax)\n",
      "             18 LOAD_FAST                2 (W2)\n",
      "             20 LOAD_FAST                0 (x)\n",
      "             22 BINARY_MATRIX_MULTIPLY\n",
      "             24 CALL_FUNCTION            1\n",
      "             26 STORE_FAST               0 (x)\n",
      "\n",
      " 16          28 LOAD_FAST                0 (x)\n",
      "             30 RETURN_VALUE\n",
      "('x', {'offset': 0, 'group': 6})\n",
      "('W1', {'offset': 0, 'group': 6})\n",
      "('W2', {'offset': 0, 'group': 3})\n",
      "('b', {'offset': 0, 'group': 5})\n",
      "('BINARY_MATRIX_MULTIPLY_6', {'group': 5})\n",
      "('BINARY_ADD_10', {'group': 4})\n",
      "('relu_12', {'group': 3})\n",
      "('BINARY_MATRIX_MULTIPLY_22', {'group': 2})\n",
      "('softmax_24', {'group': 1})\n",
      "('RETURN_VALUE', {'group': 0})\n"
     ]
    },
    {
     "data": {
      "image/png": "[encoded data removed]",
      "text/plain": [
       "<Figure size 432x288 with 1 Axes>"
      ]
     },
     "metadata": {},
     "output_type": "display_data"
    }
   ],
   "source": [
    "\n",
    "\n",
    "def computation_graph(f):\n",
    "    G = nx.DiGraph()\n",
    "    bytecode = dis.Bytecode(f)\n",
    "    stack = []\n",
    "    mapping = {}\n",
    "    for a in bytecode.codeobj.co_varnames:\n",
    "        G.add_node(a, offset=0)\n",
    "        mapping[a] = a\n",
    "    dis.dis(f)\n",
    "    for byte in bytecode:\n",
    "        # print(byte)\n",
    "        if byte.opname in ['LOAD_FAST']:\n",
    "            stack.append(mapping[byte.argval])\n",
    "        if byte.opname in ['LOAD_CONST']:\n",
    "            stack.append(byte.argval)\n",
    "        if byte.opname in ['LOAD_GLOBAL']:\n",
    "            stack.append(byte.argval)\n",
    "        if byte.opname in ['BINARY_ADD', 'BINARY_POWER', 'BINARY_MATRIX_MULTIPLY']:\n",
    "            a = stack.pop()\n",
    "            b = stack.pop()\n",
    "            val = byte.opname + \"_\" + str(byte.offset)\n",
    "            stack.append(val)\n",
    "            G.add_edge(a, val)\n",
    "            G.add_edge(b, val)\n",
    "        if byte.opname in ['STORE_FAST']:\n",
    "            mapping[byte.argval] = stack.pop()\n",
    "        if byte.opname in ['CALL_FUNCTION']:\n",
    "            arg = stack.pop()\n",
    "            f = stack.pop()\n",
    "            val = f + \"_\" + str(byte.offset)\n",
    "            stack.append(val)\n",
    "            G.add_edge(arg, val)\n",
    "        if byte.opname in ['RETURN_VALUE']:\n",
    "            arg = stack.pop()\n",
    "            G.add_edge(arg, byte.opname)\n",
    "    def group(graph, node, depth):\n",
    "        graph.nodes[node]['group'] = depth\n",
    "        for n in graph.predecessors(node):\n",
    "            group(graph, n, depth + 1)\n",
    "    group(G, 'RETURN_VALUE', 0)\n",
    "    return G\n",
    "            \n",
    "            \n",
    "\n",
    "G = computation_graph(f)\n",
    "\n",
    "nx.draw(G,\n",
    "        pos = nx.multipartite_layout(G, align='horizontal', subset_key=\"group\"), \n",
    "        **style)\n",
    "for n in G.nodes(data=True):\n",
    "    print(n)"
   ]
  },
  {
   "cell_type": "code",
   "execution_count": 97,
   "metadata": {},
   "outputs": [
    {
     "name": "stdout",
     "output_type": "stream",
     "text": [
      "co_argcount  : 1\n",
      "co_cellvars  : ()\n",
      "co_code  : b't\\x00t\\x01|\\x00\\x10\\x00t\\x02\\x17\\x00\\x83\\x01}\\x00t\\x03t\\x04|\\x00\\x10\\x00\\x83\\x01}\\x00|\\x00S\\x00'\n",
      "co_consts  : (None,)\n",
      "co_filename  : <ipython-input-79-115a6fb89f37>\n",
      "co_firstlineno  : 12\n",
      "co_flags  : 67\n",
      "co_freevars  : ()\n",
      "co_kwonlyargcount  : 0\n",
      "co_lnotab  : b'\\x00\\x01\\x10\\x01\\x0c\\x01'\n",
      "co_name  : f\n",
      "co_names  : ('relu', 'W1', 'b', 'softmax', 'W2')\n",
      "co_nlocals  : 1\n",
      "co_posonlyargcount  : 0\n",
      "co_stacksize  : 3\n",
      "co_varnames  : ('x',)\n",
      "replace  : <built-in method replace of code object at 0x000001F66EB1DBE0>\n"
     ]
    }
   ],
   "source": [
    "bytecode = dis.Bytecode(f)\n",
    "for att in dir(bytecode.codeobj):\n",
    "    if \"__\" not in att:\n",
    "        print(att, \" :\", getattr(bytecode.codeobj, att))"
   ]
  }
 ],
 "metadata": {
  "kernelspec": {
   "display_name": "Python 3",
   "language": "python",
   "name": "python3"
  },
  "language_info": {
   "codemirror_mode": {
    "name": "ipython",
    "version": 3
   },
   "file_extension": ".py",
   "mimetype": "text/x-python",
   "name": "python",
   "nbconvert_exporter": "python",
   "pygments_lexer": "ipython3",
   "version": "3.9.0"
  }
 },
 "nbformat": 4,
 "nbformat_minor": 2
}
