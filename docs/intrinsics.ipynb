{
 "metadata": {
  "language_info": {
   "codemirror_mode": {
    "name": "ipython",
    "version": 3
   },
   "file_extension": ".py",
   "mimetype": "text/x-python",
   "name": "python",
   "nbconvert_exporter": "python",
   "pygments_lexer": "ipython3",
   "version": 3
  },
  "orig_nbformat": 2
 },
 "nbformat": 4,
 "nbformat_minor": 2,
 "cells": [
  {
   "source": [
    "# Intrinsics"
   ],
   "cell_type": "markdown",
   "metadata": {}
  },
  {
   "source": [
    "## Indexing\n",
    "\n",
    "### Subscript\n",
    "\n",
    "A subscript is a mapping from the dimensions (axes of the shape) to a collection of indexes along this axis.\n",
    "\n",
    "Let's say $n_d$ is the number of dimensions of an array $A$, and $d_0, d_1, ... d_{n_d}$ are the sizes along those dimensions. We can further define $F$, a filter as a sequence $(f_0, f_1, ... f_{n_d})$ where for any $i$, $f_i$ is the sequence of selected indexes along this axis. \n",
    "\n",
    "If $(i_0, i_1, ..., i_{n_d})$ are the indexes of an element in $A$ and $D$ is the (flat) buffer storing this data, then:\n",
    "\n",
    "$$A(i_0, i_1, ..., i_{n_d}) = D(\\sum_{k=0}^{n_d} i_k s_k)$$\n",
    "\n",
    "where the $s_i$ are the strides of $A$.\n",
    "\n",
    "$$\\forall i \\in \\{0, 1, ..., n_d - 1\\}, s_i = \\prod_{k=i+1}^{n_d} d_k \\text{ and } s_{n_d} = 1$$\n",
    "\n",
    "If we have $I = \\sum_{k=0}^{n_d} i_k s_k$ then if we want to find $I'$ for $i_{k_{new}}$ for example: we can do $I' = I + s_k(i_{k_{new}} - i_k)$\n"
   ],
   "cell_type": "markdown",
   "metadata": {}
  }
 ]
}